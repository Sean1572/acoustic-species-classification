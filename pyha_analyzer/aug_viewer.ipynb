{
 "cells": [
  {
   "cell_type": "code",
   "execution_count": 2,
   "metadata": {},
   "outputs": [],
   "source": [
    "# Import statements\n",
    "import os\n",
    "import sys\n",
    "import numpy as np\n",
    "sys.argv = [\"\"] # Hack to make argparse work in jupyter\n",
    "if os.getcwd().endswith(\"pyha_analyzer\"):\n",
    "    os.chdir(\"..\") # Fix working directory for imports\n",
    "import aug_viewer\n",
    "import config\n",
    "cfg = config.cfg"
   ]
  },
  {
   "cell_type": "code",
   "execution_count": null,
   "metadata": {},
   "outputs": [],
   "source": [
    "# PARAMETERS\n",
    "# Overrides config parameters for data aug\n",
    "CONF = {\n",
    "    \"noise_alpha\":  0.3,\n",
    "    \"lowpass_cutoff\": 1000,\n",
    "    \"lowpass_q_val\": 0.707,\n",
    "    \"highpass_cutoff\": 10000,\n",
    "    \"highpass_q_val\": 0.707,\n",
    "    \"rand_eq_f_range\": (100, 6000),\n",
    "    \"rand_eq_g_range\": (-8, 8),\n",
    "    \"rand_eq_q_range\": (1, 9),\n",
    "    \"rand_eq_iters\": 1,\n",
    "    \"bg_noise_alpha_range\": (0.5,0.5),\n",
    "    \"mixup_alpha_range\": (0.1, 0.4),\n",
    "    \"freq_mask_param\": 10,\n",
    "    \"time_mask_param\": 25,\n",
    "    \n",
    "    \n",
    "}\n",
    "\n",
    "for key, val in CONF.items():\n",
    "    setattr(cfg, key, val)\n",
    "\n",
    "def sigmoid(x): return 1 / (1 + np.exp(-x))\n",
    "def linear(x): return x\n",
    "def tanh(x): return np.tanh(x)\n",
    "def log1p(x): return np.log1p(x)\n",
    "NORMS = {\n",
    "    \"use_normal_dist\": True,\n",
    "    \"normalization\": sigmoid,\n",
    "    \"min_clip\": -3,\n",
    "    \"max_clip\": 3,\n",
    "}\n",
    "\n",
    "aug_viewer.run_test(n_clips = 3, \n",
    "                norms = NORMS, \n",
    "                cfg = cfg)\n",
    "                "
   ]
  }
 ],
 "metadata": {
  "kernelspec": {
   "display_name": "Python 3 (ipykernel)",
   "language": "python",
   "name": "python3"
  },
  "language_info": {
   "codemirror_mode": {
    "name": "ipython",
    "version": 3
   },
   "file_extension": ".py",
   "mimetype": "text/x-python",
   "name": "python",
   "nbconvert_exporter": "python",
   "pygments_lexer": "ipython3",
   "version": "3.8.16"
  }
 },
 "nbformat": 4,
 "nbformat_minor": 2
}
