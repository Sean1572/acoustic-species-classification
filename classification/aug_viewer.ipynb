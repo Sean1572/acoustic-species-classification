{
 "cells": [
  {
   "cell_type": "code",
   "execution_count": 3,
   "metadata": {},
   "outputs": [
    {
     "ename": "ModuleNotFoundError",
     "evalue": "No module named 'git'",
     "output_type": "error",
     "traceback": [
      "\u001b[0;31m---------------------------------------------------------------------------\u001b[0m",
      "\u001b[0;31mModuleNotFoundError\u001b[0m                       Traceback (most recent call last)",
      "Cell \u001b[0;32mIn[3], line 8\u001b[0m\n\u001b[1;32m      6\u001b[0m \u001b[38;5;28;01mif\u001b[39;00m os\u001b[38;5;241m.\u001b[39mgetcwd()\u001b[38;5;241m.\u001b[39mendswith(\u001b[38;5;124m\"\u001b[39m\u001b[38;5;124mclassification\u001b[39m\u001b[38;5;124m\"\u001b[39m):\n\u001b[1;32m      7\u001b[0m     os\u001b[38;5;241m.\u001b[39mchdir(\u001b[38;5;124m\"\u001b[39m\u001b[38;5;124m..\u001b[39m\u001b[38;5;124m\"\u001b[39m) \u001b[38;5;66;03m# Fix working directory for imports\u001b[39;00m\n\u001b[0;32m----> 8\u001b[0m \u001b[38;5;28;01mimport\u001b[39;00m \u001b[38;5;21;01maug_viewer\u001b[39;00m\n\u001b[1;32m      9\u001b[0m \u001b[38;5;28;01mimport\u001b[39;00m \u001b[38;5;21;01mconfig\u001b[39;00m\n\u001b[1;32m     10\u001b[0m cfg \u001b[38;5;241m=\u001b[39m config\u001b[38;5;241m.\u001b[39mcfg\n",
      "File \u001b[0;32m~/projects/acoustic-multiclass-training/classification/aug_viewer.py:7\u001b[0m\n\u001b[1;32m      1\u001b[0m \u001b[38;5;124;03m\"\"\"\u001b[39;00m\n\u001b[1;32m      2\u001b[0m \u001b[38;5;124;03m    This file contains methods that allow the visualization of\u001b[39;00m\n\u001b[1;32m      3\u001b[0m \u001b[38;5;124;03m    different data augmentations.\u001b[39;00m\n\u001b[1;32m      4\u001b[0m \u001b[38;5;124;03m\"\"\"\u001b[39;00m\n\u001b[1;32m      5\u001b[0m \u001b[38;5;28;01mfrom\u001b[39;00m \u001b[38;5;21;01mtyping\u001b[39;00m \u001b[38;5;28;01mimport\u001b[39;00m Callable, List, Tuple\n\u001b[0;32m----> 7\u001b[0m \u001b[38;5;28;01mimport\u001b[39;00m \u001b[38;5;21;01mconfig\u001b[39;00m\n\u001b[1;32m      8\u001b[0m \u001b[38;5;28;01mimport\u001b[39;00m \u001b[38;5;21;01mnumpy\u001b[39;00m \u001b[38;5;28;01mas\u001b[39;00m \u001b[38;5;21;01mnp\u001b[39;00m\n\u001b[1;32m      9\u001b[0m \u001b[38;5;28;01mimport\u001b[39;00m \u001b[38;5;21;01mtorch\u001b[39;00m\n",
      "File \u001b[0;32m~/projects/acoustic-multiclass-training/classification/config.py:14\u001b[0m\n\u001b[1;32m     10\u001b[0m \u001b[38;5;28;01mimport\u001b[39;00m \u001b[38;5;21;01msys\u001b[39;00m\n\u001b[1;32m     12\u001b[0m \u001b[38;5;66;03m# \"Repo\" is not exported from module \"git\" Import from \"git.repo\" instead\u001b[39;00m\n\u001b[1;32m     13\u001b[0m \u001b[38;5;66;03m# https://gitpython.readthedocs.io/en/stable/tutorial.html?highlight=repo#meet-the-repo-type\u001b[39;00m\n\u001b[0;32m---> 14\u001b[0m \u001b[38;5;28;01mimport\u001b[39;00m \u001b[38;5;21;01mgit\u001b[39;00m\n\u001b[1;32m     15\u001b[0m \u001b[38;5;28;01mimport\u001b[39;00m \u001b[38;5;21;01myaml\u001b[39;00m\n\u001b[1;32m     16\u001b[0m \u001b[38;5;28;01mfrom\u001b[39;00m \u001b[38;5;21;01mgit\u001b[39;00m \u001b[38;5;28;01mimport\u001b[39;00m Repo  \u001b[38;5;66;03m# pyright: ignore [reportPrivateImportUsage]\u001b[39;00m\n",
      "\u001b[0;31mModuleNotFoundError\u001b[0m: No module named 'git'"
     ]
    }
   ],
   "source": [
    "# Import statements\n",
    "import os\n",
    "import sys\n",
    "import numpy as np\n",
    "sys.argv = [\"\"] # Hack to make argparse work in jupyter\n",
    "if os.getcwd().endswith(\"classification\"):\n",
    "    os.chdir(\"..\") # Fix working directory for imports\n",
    "import aug_viewer\n",
    "import config\n",
    "cfg = config.cfg"
   ]
  },
  {
   "cell_type": "code",
   "execution_count": 2,
   "metadata": {},
   "outputs": [
    {
     "ename": "NameError",
     "evalue": "name 'cfg' is not defined",
     "output_type": "error",
     "traceback": [
      "\u001b[0;31m---------------------------------------------------------------------------\u001b[0m",
      "\u001b[0;31mNameError\u001b[0m                                 Traceback (most recent call last)",
      "Cell \u001b[0;32mIn[2], line 17\u001b[0m\n\u001b[1;32m      2\u001b[0m CONF \u001b[38;5;241m=\u001b[39m {\n\u001b[1;32m      3\u001b[0m     \u001b[38;5;124m\"\u001b[39m\u001b[38;5;124mnoise_alpha\u001b[39m\u001b[38;5;124m\"\u001b[39m : \u001b[38;5;241m0.2\u001b[39m,\n\u001b[1;32m      4\u001b[0m     \u001b[38;5;124m\"\u001b[39m\u001b[38;5;124mlowpass_cutoff\u001b[39m\u001b[38;5;124m\"\u001b[39m: \u001b[38;5;241m1000\u001b[39m,\n\u001b[0;32m   (...)\u001b[0m\n\u001b[1;32m     13\u001b[0m     \n\u001b[1;32m     14\u001b[0m }\n\u001b[1;32m     16\u001b[0m \u001b[38;5;28;01mfor\u001b[39;00m key, val \u001b[38;5;129;01min\u001b[39;00m CONF\u001b[38;5;241m.\u001b[39mitems():\n\u001b[0;32m---> 17\u001b[0m     \u001b[38;5;28msetattr\u001b[39m(\u001b[43mcfg\u001b[49m, arg, val)\n\u001b[1;32m     19\u001b[0m \u001b[38;5;28;01mdef\u001b[39;00m \u001b[38;5;21msigmoid\u001b[39m(x): \u001b[38;5;28;01mreturn\u001b[39;00m \u001b[38;5;241m1\u001b[39m \u001b[38;5;241m/\u001b[39m (\u001b[38;5;241m1\u001b[39m \u001b[38;5;241m+\u001b[39m np\u001b[38;5;241m.\u001b[39mexp(\u001b[38;5;241m-\u001b[39mx))\n\u001b[1;32m     20\u001b[0m \u001b[38;5;28;01mdef\u001b[39;00m \u001b[38;5;21mlinear\u001b[39m(x): \u001b[38;5;28;01mreturn\u001b[39;00m x\n",
      "\u001b[0;31mNameError\u001b[0m: name 'cfg' is not defined"
     ]
    }
   ],
   "source": [
    "# PARAMETERS\n",
    "CONF = {\n",
    "    \"noise_alpha\" : 0.2,\n",
    "    \"lowpass_cutoff\": 1000,\n",
    "    \"lowpass_q_val\": 0.707,\n",
    "    \"eq_f_range\": (100, 6000),\n",
    "    \"eq_g_range\": (-8, 8),\n",
    "    \"eq_q_range\": (1, 9),\n",
    "    \"eq_num_applications\": 1,\n",
    "    \"bg_noise_alpha\": 0.8,\n",
    "    \"bg_noise_norm\": True,\n",
    "    \"mixup_alpha_range\": (0.1, 0.4)\n",
    "    \n",
    "}\n",
    "\n",
    "for key, val in CONF.items():\n",
    "    setattr(cfg, arg, val)\n",
    "\n",
    "def sigmoid(x): return 1 / (1 + np.exp(-x))\n",
    "def linear(x): return x\n",
    "def tanh(x): return np.tanh(x)\n",
    "def log1p(x): return np.log1p(x)\n",
    "NORMS = {\n",
    "    \"use_normal_dist\": True,\n",
    "    \"normalization\": log1p,\n",
    "    \"min_clip\": -3,\n",
    "    \"max_clip\": 3,\n",
    "}\n",
    "noise_types = [\"white\",\"pink\",\"brown\",\"violet\",\"blue\"]\n",
    "\n",
    "\n",
    "aug_viewer.main(n_samples = 3, \n",
    "                norms = NORMS, \n",
    "                noise_types = noise_types,\n",
    "                conf = CONF)"
   ]
  },
  {
   "cell_type": "code",
   "execution_count": null,
   "metadata": {},
   "outputs": [],
   "source": []
  }
 ],
 "metadata": {
  "kernelspec": {
   "display_name": "Python 3 (ipykernel)",
   "language": "python",
   "name": "python3"
  },
  "language_info": {
   "codemirror_mode": {
    "name": "ipython",
    "version": 3
   },
   "file_extension": ".py",
   "mimetype": "text/x-python",
   "name": "python",
   "nbconvert_exporter": "python",
   "pygments_lexer": "ipython3",
   "version": "3.11.3"
  }
 },
 "nbformat": 4,
 "nbformat_minor": 2
}
