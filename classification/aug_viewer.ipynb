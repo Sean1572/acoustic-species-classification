{
 "cells": [
  {
   "cell_type": "code",
   "execution_count": null,
   "metadata": {},
   "outputs": [],
   "source": [
    "# Import statements\n",
    "import os\n",
    "import sys\n",
    "import numpy as np\n",
    "sys.argv = [\"\"] # Hack to make argparse work in jupyter\n",
    "if os.getcwd().endswith(\"classification\"):\n",
    "    os.chdir(\"..\") # Fix working directory for imports\n",
    "import aug_viewer\n",
    "import config\n",
    "cfg = config.cfg"
   ]
  },
  {
   "cell_type": "code",
   "execution_count": null,
   "metadata": {},
   "outputs": [],
   "source": [
    "# PARAMETERS\n",
    "CONF = {\n",
    "    \"noise_alpha\" : 0.2,\n",
    "    \"lowpass_cutoff\": 1000,\n",
    "    \"lowpass_q_val\": 0.707,\n",
    "    \"eq_f_range\": (100, 6000),\n",
    "    \"eq_g_range\": (-8, 8),\n",
    "    \"eq_q_range\": (1, 9),\n",
    "    \"eq_num_applications\": 1,\n",
    "    \"bg_noise_alpha\": 0.8,\n",
    "    \"bg_noise_norm\": True,\n",
    "    \"mixup_alpha_range\": (0.1, 0.4)\n",
    "    \n",
    "}\n",
    "\n",
    "for key, val in CONF.items():\n",
    "    setattr(cfg, key, val)\n",
    "\n",
    "def sigmoid(x): return 1 / (1 + np.exp(-x))\n",
    "def linear(x): return x\n",
    "def tanh(x): return np.tanh(x)\n",
    "def log1p(x): return np.log1p(x)\n",
    "NORMS = {\n",
    "    \"use_normal_dist\": True,\n",
    "    \"normalization\": log1p,\n",
    "    \"min_clip\": -3,\n",
    "    \"max_clip\": 3,\n",
    "}\n",
    "noise_types = [\"white\",\"pink\",\"brown\",\"violet\",\"blue\"]\n",
    "\n",
    "\n",
    "aug_viewer.run_test(n_samples = 3, \n",
    "                norms = NORMS, \n",
    "                noise_types = noise_types,\n",
    "                cfg = cfg)"
   ]
  },
  {
   "cell_type": "code",
   "execution_count": null,
   "metadata": {},
   "outputs": [],
   "source": []
  }
 ],
 "metadata": {
  "kernelspec": {
   "display_name": "Python 3 (ipykernel)",
   "language": "python",
   "name": "python3"
  },
  "language_info": {
   "codemirror_mode": {
    "name": "ipython",
    "version": 3
   },
   "file_extension": ".py",
   "mimetype": "text/x-python",
   "name": "python",
   "nbconvert_exporter": "python",
   "pygments_lexer": "ipython3",
   "version": "3.11.3"
  }
 },
 "nbformat": 4,
 "nbformat_minor": 2
}
