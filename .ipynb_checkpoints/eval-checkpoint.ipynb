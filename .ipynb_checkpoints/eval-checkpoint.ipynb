{
 "cells": [
  {
   "cell_type": "code",
   "execution_count": null,
   "id": "919a4078",
   "metadata": {},
   "outputs": [],
   "source": [
    "import itertools\n",
    "from sklearn.metrics import confusion_matrix"
   ]
  },
  {
   "cell_type": "code",
   "execution_count": null,
   "id": "89f0d9dc",
   "metadata": {},
   "outputs": [],
   "source": [
    "def plot_confusion_matrix_2(cm,\n",
    "                      target_names,\n",
    "                      title='Tweetynet WTS on Opensoundscape with Mixed Bird Other',\n",
    "                      cmap=None,\n",
    "                      normalize=True,\n",
    "                      FONT_SIZE = 10,\n",
    "                      figsize = (8*2, 6*2)):\n",
    "    \"\"\"\n",
    "    given a sklearn confusion matrix (cm), make a nice plot\n",
    "\n",
    "    Arguments\n",
    "    ---------\n",
    "    cm:           confusion matrix from sklearn.metrics.confusion_matrix\n",
    "\n",
    "    target_names: given classification classes such as [0, 1, 2]\n",
    "                  the class names, for example: ['high', 'medium', 'low']\n",
    "\n",
    "    title:        the text to display at the top of the matrix\n",
    "\n",
    "    cmap:         the gradient of the values displayed from matplotlib.pyplot.cm\n",
    "                  see http://matplotlib.org/examples/color/colormaps_reference.html\n",
    "                  plt.get_cmap('jet') or plt.cm.Blues\n",
    "\n",
    "    normalize:    If False, plot the raw numbers\n",
    "                  If True, plot the proportions\n",
    "\n",
    "\n",
    "    Citiation\n",
    "    ---------\n",
    "    http://scikit-learn.org/stable/auto_examples/model_selection/plot_confusion_matrix.html\n",
    "    https://stackoverflow.com/questions/48855290/plotted-confusion-matrix-values-overlapping-each-other-total-classes-90\n",
    "\n",
    "    \"\"\"\n",
    "\n",
    "    #print(cm)\n",
    "    accuracy = np.trace(cm) / float(np.sum(cm))\n",
    "    misclass = 1 - accuracy\n",
    "\n",
    "    if cmap is None:\n",
    "        cmap = plt.get_cmap('Blues')\n",
    "\n",
    "    if normalize:\n",
    "        cm = cm.astype('float') / cm.sum(axis=1)[:, np.newaxis]    \n",
    "    \n",
    "    plt.figure(figsize=figsize)    # 8, 6\n",
    "    plt.imshow(cm, interpolation='nearest', cmap=cmap)\n",
    "    plt.title(title)\n",
    "    plt.colorbar()\n",
    "\n",
    "    if target_names is not None:\n",
    "        tick_marks = np.arange(len(target_names))\n",
    "        plt.xticks(tick_marks, target_names, rotation=90, fontsize=FONT_SIZE)\n",
    "        plt.yticks(tick_marks, target_names, fontsize=FONT_SIZE)\n",
    "\n",
    "    \n",
    "\n",
    "    #print(cm)\n",
    "    thresh = cm.max() / 1.5 if normalize else cm.max() / 2\n",
    "    for i, j in itertools.product(range(cm.shape[0]), range(cm.shape[1])):\n",
    "        if normalize:\n",
    "            plt.text(j, i, \"{:0.4f}\".format(cm[i, j]),\n",
    "                     horizontalalignment=\"center\",\n",
    "                     fontsize=FONT_SIZE,\n",
    "                     color=\"white\" if cm[i, j] > thresh else \"black\")\n",
    "        else:\n",
    "            plt.text(j, i, \"{:,}\".format(cm[i, j]),\n",
    "                     horizontalalignment=\"center\",\n",
    "                     fontsize=FONT_SIZE,\n",
    "                     color=\"white\" if cm[i, j] > thresh else \"black\")\n",
    "\n",
    "\n",
    "    \n",
    "    plt.tight_layout()\n",
    "    plt.ylabel('True label')\n",
    "    plt.xlabel('Predicted label\\naccuracy={:0.4f}; misclass={:0.4f}'.format(accuracy, misclass))\n",
    "    plt.show()"
   ]
  },
  {
   "cell_type": "code",
   "execution_count": null,
   "id": "4521f242",
   "metadata": {
    "scrolled": true
   },
   "outputs": [],
   "source": [
    "from numpy import genfromtxt\n",
    "import numpy as np\n",
    "labels = genfromtxt('0_labels_1.csv', delimiter=',')\n",
    "pred = genfromtxt('0_predictions_1.csv', delimiter=',')\n",
    "\n",
    "#labels = np.delete(labels, 0, 0)\n",
    "#pred = np.delete(labels,0,0)\n",
    "#pred\n",
    "#cm = confusion_matrix(labels, pred)"
   ]
  },
  {
   "cell_type": "code",
   "execution_count": null,
   "id": "b226b6b7",
   "metadata": {},
   "outputs": [],
   "source": [
    "labels = np.delete(labels,0,1)\n",
    "pred = np.delete(pred,0,1)"
   ]
  },
  {
   "cell_type": "code",
   "execution_count": null,
   "id": "0591fc9f",
   "metadata": {},
   "outputs": [],
   "source": [
    "pred"
   ]
  },
  {
   "cell_type": "code",
   "execution_count": null,
   "id": "d7071f4a",
   "metadata": {
    "scrolled": false
   },
   "outputs": [],
   "source": [
    "cm = confusion_matrix(labels,pred)\n",
    "cm"
   ]
  },
  {
   "cell_type": "code",
   "execution_count": null,
   "id": "1236a70a",
   "metadata": {
    "scrolled": true
   },
   "outputs": [],
   "source": [
    "import pandas as pd\n",
    "import matplotlib.pyplot as plt\n",
    "train_metadata = pd.read_csv(\"/share/acoustic_species_id/train_metadata.csv\")\n",
    "target_names = train_metadata[\"primary_label\"].unique()\n",
    "plot_confusion_matrix_2(cm=cm, target_names=target_names, title=\"EfficientNet B4 - 1 epoch baseline\")"
   ]
  },
  {
   "cell_type": "code",
   "execution_count": null,
   "id": "ed18f5f4",
   "metadata": {},
   "outputs": [],
   "source": []
  }
 ],
 "metadata": {
  "kernelspec": {
   "display_name": "Python 3",
   "language": "python",
   "name": "python3"
  },
  "language_info": {
   "codemirror_mode": {
    "name": "ipython",
    "version": 3
   },
   "file_extension": ".py",
   "mimetype": "text/x-python",
   "name": "python",
   "nbconvert_exporter": "python",
   "pygments_lexer": "ipython3",
   "version": "3.7.10"
  }
 },
 "nbformat": 4,
 "nbformat_minor": 5
}
